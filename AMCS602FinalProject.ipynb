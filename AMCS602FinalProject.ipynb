{
  "cells": [
    {
      "cell_type": "markdown",
      "metadata": {
        "colab_type": "text",
        "id": "view-in-github"
      },
      "source": [
        "<a href=\"https://colab.research.google.com/github/YWenxi/amcs602finalproject/blob/main/AMCS602FinalProject.ipynb\" target=\"_parent\"><img src=\"https://colab.research.google.com/assets/colab-badge.svg\" alt=\"Open In Colab\"/></a>"
      ]
    },
    {
      "cell_type": "markdown",
      "metadata": {},
      "source": [
        "# AMCS602 Final Project"
      ]
    },
    {
      "cell_type": "code",
      "execution_count": 1,
      "metadata": {},
      "outputs": [
        {
          "name": "stderr",
          "output_type": "stream",
          "text": [
            "�����﷨����ȷ��\n",
            "'wget' �����ڲ����ⲿ���Ҳ���ǿ����еĳ���\n",
            "���������ļ���\n",
            "unzip:  cannot find or open ./data/afhq.zip, ./data/afhq.zip.zip or ./data/afhq.zip.ZIP.\n",
            "rm: cannot remove './data/afhq.zip': No such file or directory\n"
          ]
        }
      ],
      "source": [
        "# Uncomment the following commands if you want to re-download the data in this colab working directory\n",
        "\n",
        "! rm -rf ./data\n",
        "! mkdir -p ./data\n",
        "! wget -N https://www.dropbox.com/s/t9l9o3vsx2jai3z/afhq.zip?dl=0 -O ./data/afhq.zip\n",
        "! unzip -q ./data/afhq.zip -d ./data\n",
        "! rm ./data/afhq.zip"
      ]
    }
  ],
  "metadata": {
    "colab": {
      "authorship_tag": "ABX9TyNJMq9eSKvOz4eRL4I6shx3",
      "include_colab_link": true,
      "name": "AMCS602FinalProject.ipynb",
      "provenance": []
    },
    "kernelspec": {
      "display_name": "Python 3",
      "name": "python3"
    },
    "language_info": {
      "codemirror_mode": {
        "name": "ipython",
        "version": 3
      },
      "file_extension": ".py",
      "mimetype": "text/x-python",
      "name": "python",
      "nbconvert_exporter": "python",
      "pygments_lexer": "ipython3",
      "version": "3.9.7"
    }
  },
  "nbformat": 4,
  "nbformat_minor": 0
}
